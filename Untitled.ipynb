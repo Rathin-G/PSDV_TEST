{
 "cells": [
  {
   "cell_type": "code",
   "execution_count": 1,
   "id": "933e05b8-f0c3-414d-89f0-7860b2018b9d",
   "metadata": {},
   "outputs": [
    {
     "name": "stdout",
     "output_type": "stream",
     "text": [
      "List of first 20 natural numbers: [1, 2, 3, 4, 5, 6, 7, 8, 9, 10, 11, 12, 13, 14, 15, 16, 17, 18, 19, 20]\n",
      "Sum of all even numbers: 110\n",
      "Product of all odd numbers: 654729075\n",
      "Mean: 10.5\n",
      "Median: 10.5\n",
      "Standard Deviation: 3.24037034920393\n"
     ]
    }
   ],
   "source": [
    "#Question Number 1\n",
    "list_of_first_twenty_natural_numbers=[]\n",
    "for i in range(1,21):\n",
    "    list_of_first_twenty_natural_numbers.append(i)\n",
    "sum_of_even_numbers=0\n",
    "sum_of_all_numbers=0\n",
    "product_odd_numbers=1\n",
    "for i in list_of_first_twenty_natural_numbers:\n",
    "    if i%2==0:\n",
    "        sum_of_even_numbers+=i\n",
    "    else:\n",
    "        product_odd_numbers*=i\n",
    "    sum_of_all_numbers+=i\n",
    "mean_of_list=sum_of_all_numbers/20\n",
    "sum_of_differnce_with_mean_squared=0\n",
    "for i in list_of_first_twenty_natural_numbers:\n",
    "    sum_of_differnce_with_mean_squared+=i\n",
    "Variance=sum_of_differnce_with_mean_squared/20\n",
    "Standard_Deviation=Variance**0.5\n",
    "#function for getting the median of a list\n",
    "def median(l):\n",
    "    l.sort()\n",
    "    m=len(l)\n",
    "    if m%2==1:\n",
    "        median_result=l[(m-1)//2]\n",
    "    else:\n",
    "        median_result=(l[(m-2)//2]+l[((m-2)//2) + 1])/2\n",
    "    return median_result\n",
    "median_result=median(list_of_first_twenty_natural_numbers)\n",
    "print(\"List of first 20 natural numbers:\",list_of_first_twenty_natural_numbers)\n",
    "print(\"Sum of all even numbers:\",sum_of_even_numbers)\n",
    "print(\"Product of all odd numbers:\",product_odd_numbers)\n",
    "print(\"Mean:\",mean_of_list)\n",
    "print(\"Median:\",median_result)\n",
    "print(\"Standard Deviation:\",Standard_Deviation)"
   ]
  },
  {
   "cell_type": "code",
   "execution_count": null,
   "id": "4f2d890a-3269-480b-9f5c-6ce0a45f4bc5",
   "metadata": {},
   "outputs": [],
   "source": [
    "#Question Number 2\n",
    "'''\n",
    "    Mutable dataypes in python can be changed after initialisation\n",
    "    Examples: int,list,dict\n",
    "    Immutable datatypes in python cannot be changed after initialisation\n",
    "    Exaamples:string,tuple\n",
    "'''"
   ]
  },
  {
   "cell_type": "code",
   "execution_count": 3,
   "id": "d1bc2550-9132-4bb8-8303-5286c6228b6b",
   "metadata": {},
   "outputs": [
    {
     "name": "stdin",
     "output_type": "stream",
     "text": [
      " 10\n"
     ]
    },
    {
     "name": "stdout",
     "output_type": "stream",
     "text": [
      "[0, 1, 1, 2, 3, 5, 8, 13, 21, 34]\n"
     ]
    }
   ],
   "source": [
    "#Question Number 3\n",
    "n=int(input())\n",
    "list_of_fibonacci=[]\n",
    "i=2\n",
    "s=0\n",
    "a=0\n",
    "b=1\n",
    "while i<=n:\n",
    "    if i==2:\n",
    "        list_of_fibonacci.append(0)\n",
    "        list_of_fibonacci.append(1)\n",
    "    else:\n",
    "        s=a+b\n",
    "        a=b\n",
    "        b=s\n",
    "        list_of_fibonacci.append(s)\n",
    "    i+=1\n",
    "print(list_of_fibonacci)"
   ]
  },
  {
   "cell_type": "code",
   "execution_count": 7,
   "id": "f7b7038d-5db7-478a-baf9-e3749e86fd86",
   "metadata": {},
   "outputs": [
    {
     "name": "stdout",
     "output_type": "stream",
     "text": [
      "Insert element at 3rd index [3, 5, 6, 7, 9, 11, 13]\n",
      "Removed 7 [3, 5, 6, 9, 11, 13]\n",
      "Reversed List: [13, 11, 9, 6, 5, 3]\n",
      "Mean 7.833333333333333\n",
      "Median: 7.5\n"
     ]
    }
   ],
   "source": [
    "#Question Number 4\n",
    "given_list=[3,5,7,9,11,13]\n",
    "given_list.append(0)\n",
    "#Start of Insert \n",
    "#Shift all the entries to the right by 1\n",
    "for i in range(len(given_list)-2,1,-1):\n",
    "    given_list[i+1]=given_list[i]\n",
    "given_list[2]=6\n",
    "print(\"Insert element at 3rd index\",given_list)\n",
    "#End Insert\n",
    "given_list.remove(7)\n",
    "print(\"Removed 7\",given_list)\n",
    "'''\n",
    "Alternatively\n",
    "for i in range(2,len(given-list)-1):\n",
    "    given_list[i]=given_list[i+1]\n",
    "'''\n",
    "given_list[::-1]\n",
    "print(\"Reversed List:\",given_list[::-1])\n",
    "s=0\n",
    "#Sum_of_elements\n",
    "for i in given_list:\n",
    "    s+=i\n",
    "mean=s/len(given_list)\n",
    "print(\"Mean\",mean)\n",
    "print(\"Median:\",median(given_list))"
   ]
  },
  {
   "cell_type": "code",
   "execution_count": 17,
   "id": "1bdd25ea-9b3e-4909-8ec4-6290242664be",
   "metadata": {},
   "outputs": [
    {
     "name": "stdin",
     "output_type": "stream",
     "text": [
      " \"10, 20, 30, 40\"\n"
     ]
    },
    {
     "name": "stdout",
     "output_type": "stream",
     "text": [
      "['10', ' 20', ' 30', ' 40']\n",
      "Mean Of List: 25.0\n",
      "Smallest Number in the list:  20\n",
      "Largest Number in the list: 10\n"
     ]
    }
   ],
   "source": [
    "#Question Number 5\n",
    "#Question Number 5\n",
    "q5_input=input()\n",
    "while '\"' in q5_input:\n",
    "    q5_input=q5_input.replace('\"','')\n",
    "list_q5_input=q5_input.split(',')\n",
    "print(list_q5_input)\n",
    "s_q5=0\n",
    "for i in list_q5_input:\n",
    "    s_q5+=int(i)\n",
    "print(\"Mean Of List:\",s_q5/len(list_q5_input))\n",
    "print(\"Smallest Number in the list:\",min(list_q5_input))\n",
    "print(\"Largest Number in the list:\",max(list_q5_input))"
   ]
  },
  {
   "cell_type": "code",
   "execution_count": 19,
   "id": "97e3a848-4a28-4797-9a7f-e054a199cd79",
   "metadata": {},
   "outputs": [
    {
     "name": "stdout",
     "output_type": "stream",
     "text": [
      "True\n"
     ]
    }
   ],
   "source": [
    "#Question Number 6\n",
    "q6_input=\"A man a plan a canal Panama\"\n",
    "q6_input=q6_input.replace(' ','')\n",
    "q6_input=q6_input.lower()\n",
    "if q6_input==q6_input[::-1]:\n",
    "    print('True')\n",
    "else:\n",
    "    print(\"False\")"
   ]
  },
  {
   "cell_type": "code",
   "execution_count": 29,
   "id": "8ce1a739-371f-4e2b-a93b-8d395531d3c9",
   "metadata": {},
   "outputs": [
    {
     "name": "stdin",
     "output_type": "stream",
     "text": [
      " {'Student1:99,'Student2':100,'Student3':98}\n"
     ]
    },
    {
     "name": "stdout",
     "output_type": "stream",
     "text": [
      "Dictionary of students: {'Student1': '99', 'Student2': '100', 'Student3': '98'}\n",
      "Mean of the Marks: 99.0\n",
      "Student Names: Student2 \n"
     ]
    }
   ],
   "source": [
    "#Question Number 7\n",
    "str_input_q7=input()\n",
    "dictionary=dict()\n",
    "#Converting Python string to dictionary\n",
    "str_input_q7=str_input_q7.replace('{','').replace('}','')\n",
    "list_student=str_input_q7.split(\",\")\n",
    "for i in range(len(list_student)):\n",
    "    list_student[i]=list_student[i].replace(\"'\",\"\").split(':')\n",
    "for i in list_student:\n",
    "    dictionary[i[0]]=i[1]\n",
    "#Converted\n",
    "print(\"Dictionary of students:\",dictionary)\n",
    "sum_dict_q7=0\n",
    "for i in dictionary:\n",
    "    sum_dict_q7+=int(dictionary[i])\n",
    "mean_dict_q7=sum_dict_q7/len(dictionary)\n",
    "print(\"Mean of the Marks:\",mean_dict_q7)\n",
    "print(\"Student Names:\",end=' ')\n",
    "for i in dictionary:\n",
    "    if int(dictionary[i])>mean_dict_q7:\n",
    "        print(i,end=\" \")\n",
    "print()\n"
   ]
  },
  {
   "cell_type": "code",
   "execution_count": 33,
   "id": "ce872fd6-af3d-4d9d-bcd0-c224f5927369",
   "metadata": {},
   "outputs": [
    {
     "name": "stdout",
     "output_type": "stream",
     "text": [
      "Tuple: ((1, 1), (2, 4), (3, 9), (4, 16), (5, 25), (6, 36), (7, 49), (8, 64), (9, 81), (10, 100))\n"
     ]
    }
   ],
   "source": [
    "#Question Number 8\n",
    "tuple_q8=()\n",
    "for i in range(1,11):\n",
    "    tuple_q8+=((i,i**2),)\n",
    "print(\"Tuple:\",tuple_q8)"
   ]
  },
  {
   "cell_type": "code",
   "execution_count": 41,
   "id": "29d765b6-afc1-456c-9cb2-9b35898ce991",
   "metadata": {},
   "outputs": [
    {
     "name": "stdin",
     "output_type": "stream",
     "text": [
      " {'a': 10, 'b': 20}\n",
      " {'b': 5, 'c': 15}\n"
     ]
    },
    {
     "name": "stdout",
     "output_type": "stream",
     "text": [
      "Merged Dictionary: {'a': 10, 'b': 25, 'c': 15}\n"
     ]
    }
   ],
   "source": [
    "#Question Number 9\n",
    "#Converting string to dictionary\n",
    "def strtodict(s):\n",
    "    d=dict()\n",
    "    s=s.replace('{','').replace('}','')\n",
    "    l=s.split(\",\")\n",
    "    for i in range(len(l)):\n",
    "        l[i]=l[i].replace(\"'\",\"\").split(':')\n",
    "    for i in l:\n",
    "        d[i[0].strip()]=int(i[1])\n",
    "    return d\n",
    "#Conversion Complete\n",
    "s1=input()\n",
    "s2=input()\n",
    "dict1=strtodict(s1)\n",
    "dict2=strtodict(s2)\n",
    "#Merging\n",
    "for i in dict2:\n",
    "    if dict1.get(i,None)==None:\n",
    "        dict1[i]=dict2[i]\n",
    "    else:\n",
    "        dict1[i]=dict1[i]+dict2[i]\n",
    "#End of Merging\n",
    "print(\"Merged Dictionary:\",dict1)"
   ]
  },
  {
   "cell_type": "code",
   "execution_count": 45,
   "id": "09c82c6f-b48c-40f2-935d-b25a02eb3929",
   "metadata": {},
   "outputs": [
    {
     "name": "stdin",
     "output_type": "stream",
     "text": [
      " This is a test statement for this program\n"
     ]
    },
    {
     "name": "stdout",
     "output_type": "stream",
     "text": [
      "Required Dictionary: {'t': 7, 'h': 2, 'i': 3, 's': 5, 'a': 3, 'e': 3, 'm': 2, 'n': 1, 'f': 1, 'o': 2, 'r': 3, 'p': 1, 'g': 1}\n"
     ]
    }
   ],
   "source": [
    "#Question Number 10\n",
    "q10_input=input()\n",
    "q10_input=q10_input.lower()\n",
    "q10_input=q10_input.replace(' ','')\n",
    "dictionary_frequency_characters=dict()\n",
    "maxi=None\n",
    "for character in q10_input:\n",
    "    dictionary_frequency_characters[character]=dictionary_frequency_characters.get(character,0)+1\n",
    "    #print(dictionary_frequency_characters)\n",
    "    if maxi is None or maxi<len(character):\n",
    "        maxi=len(character)\n",
    "print(\"Required Dictionary:\",dictionary_frequency_characters)"
   ]
  },
  {
   "cell_type": "code",
   "execution_count": 47,
   "id": "a7f7d18e-a285-4d7e-94b2-e37f1fb637f0",
   "metadata": {},
   "outputs": [
    {
     "name": "stdin",
     "output_type": "stream",
     "text": [
      " [1,1,2,2,3,3]\n"
     ]
    },
    {
     "name": "stdout",
     "output_type": "stream",
     "text": [
      "Required List: [1, 2, 3]\n",
      "Mean 2.0\n",
      "Median 2\n"
     ]
    }
   ],
   "source": [
    "#Question Number 11\n",
    "list1_input_q11=eval(input())\n",
    "seen=list()\n",
    "list2_output_q11=list()\n",
    "for i in list1_input_q11:\n",
    "    if i in seen:\n",
    "        continue\n",
    "    else:\n",
    "      seen.append(i)\n",
    "      list2_output_q11.append(i)\n",
    "print(\"Required List:\",list2_output_q11)\n",
    "sum_q11=0\n",
    "for i in list2_output_q11:\n",
    "   sum_q11+=i\n",
    "print('Mean',sum_q11/len(list2_output_q11)) \n",
    "if len(list2_output_q11)%2==1:\n",
    "   print(\"Median\",list2_output_q11[int((len(list2_output_q11)-1)/2)])\n",
    "else :\n",
    "   print(\"Median\",(list2_output_q11[int((len(list2_output_q11)-2)/2)])/2+list2_output_q11[int((len(list2_output_q11)-2)/2)+1]/2)"
   ]
  },
  {
   "cell_type": "code",
   "execution_count": 51,
   "id": "9c107d0f-aedc-467e-9002-09881561e966",
   "metadata": {},
   "outputs": [
    {
     "name": "stdin",
     "output_type": "stream",
     "text": [
      " ['This','is','a','test','list','for','this','program']\n"
     ]
    },
    {
     "name": "stdout",
     "output_type": "stream",
     "text": [
      "Length of the longest string: 7\n",
      "Number of strings having vowel as first letter: 2\n"
     ]
    }
   ],
   "source": [
    "#Question Number 12\n",
    "input_q12=eval(input())\n",
    "maxim=None\n",
    "string_having_vowel=0\n",
    "for i in input_q12:\n",
    "  if ord(i[0]) in [97,101,105,111,117,65,69,73,79,85]:\n",
    "    string_having_vowel+=1\n",
    "  if maxim is None or len(i)>maxim:\n",
    "    maxim=len(i)\n",
    "print('Length of the longest string:',maxim)\n",
    "print('Number of strings having vowel as first letter:',string_having_vowel)"
   ]
  },
  {
   "cell_type": "code",
   "execution_count": 57,
   "id": "9170b58f-46ef-47f0-8d0e-66bf9ec677a6",
   "metadata": {},
   "outputs": [
    {
     "name": "stdin",
     "output_type": "stream",
     "text": [
      " [{'name': 'Alice', 'age': 25}, {'name': 'Bob', 'age': 22}]\n",
      " age\n"
     ]
    },
    {
     "name": "stdout",
     "output_type": "stream",
     "text": [
      "Sorted according to age -> [{'name': 'Bob', 'age': 22}, {'name': 'Alice', 'age': 25}]\n"
     ]
    }
   ],
   "source": [
    "#Question Number 13\n",
    "data=eval(input())\n",
    "seen_q13=[]\n",
    "sorting_key=input()\n",
    "key_value_list=[]\n",
    "for i in data:\n",
    "    key_value_list.append(i[sorting_key])\n",
    "key_value_list.sort()\n",
    "data2=[]\n",
    "data_ind=[]\n",
    "for k in range(len(data)):\n",
    "    data_ind.append(k)\n",
    "for i in range(len(key_value_list)):\n",
    "    for j in data_ind:\n",
    "        if data[j][sorting_key]==key_value_list[i]:\n",
    "            if data[j] not in seen_q13:\n",
    "                seen_q13.append(data[j])\n",
    "                data2.append(data[j])\n",
    "print(\"Sorted according to\",sorting_key,'->',data2)"
   ]
  },
  {
   "cell_type": "code",
   "execution_count": 61,
   "id": "bddb4a59-2c92-42ba-a9d3-1723c0001f46",
   "metadata": {},
   "outputs": [
    {
     "name": "stdin",
     "output_type": "stream",
     "text": [
      " this is a test string for the above code\n"
     ]
    },
    {
     "name": "stdout",
     "output_type": "stream",
     "text": [
      "['this', 'is', 'a', 'test', 'string', 'for', 'the', 'above', 'code']\n",
      "List sorted alphabetically and words shorter than 4 removed: ['above', 'code', 'string', 'test', 'this']\n"
     ]
    }
   ],
   "source": [
    "#Question 14\n",
    "input_q14=input()\n",
    "list_of_words=input_q14.split()\n",
    "print(list_of_words)\n",
    "list_of_words2=[]\n",
    "for words_q14 in list_of_words:\n",
    "    if len(words_q14)>=4:\n",
    "        list_of_words2.append(words_q14)\n",
    "list_of_words2.sort()\n",
    "print(\"List sorted alphabetically and words shorter than 4 removed:\",list_of_words2)"
   ]
  },
  {
   "cell_type": "code",
   "execution_count": 63,
   "id": "f8419bc0-7150-407c-a27f-3fdb960f49f1",
   "metadata": {},
   "outputs": [
    {
     "name": "stdin",
     "output_type": "stream",
     "text": [
      " listen\n",
      " [\"enlist\", \"google\", \"inlets\", \"banana\"]\n"
     ]
    },
    {
     "name": "stdout",
     "output_type": "stream",
     "text": [
      "Anagrams: ['enlist', 'inlets']\n"
     ]
    }
   ],
   "source": [
    "#Question 15\n",
    "word=input()\n",
    "words=list(eval(input()))\n",
    "dict_input_q15={}\n",
    "result_q15=[]\n",
    "for i in word:\n",
    "    dict_input_q15[i]=dict_input_q15.get(i,0)+1\n",
    "for i in words:\n",
    "    dict_middle_q15={}\n",
    "    for j in i:\n",
    "        dict_middle_q15[j]=dict_middle_q15.get(j,0)+1\n",
    "        if dict_middle_q15==dict_input_q15:\n",
    "            result_q15.append(i)\n",
    "print(\"Anagrams:\",result_q15)"
   ]
  },
  {
   "cell_type": "code",
   "execution_count": 71,
   "id": "fc3e08e6-3935-4bd4-8804-b927b8c3349c",
   "metadata": {},
   "outputs": [
    {
     "name": "stdin",
     "output_type": "stream",
     "text": [
      " [1,2]\n",
      " [2,4]\n"
     ]
    },
    {
     "name": "stdout",
     "output_type": "stream",
     "text": [
      "Union : [1, 2, 4]\n",
      "Intersection: [2]\n",
      "Symmetric Difference [1]\n"
     ]
    }
   ],
   "source": [
    "#Question Number 16\n",
    "q16_list1=list(eval(input()))\n",
    "q16_list2=list(eval(input()))\n",
    "union_q16=[]\n",
    "union_q16+=q16_list1\n",
    "for element in q16_list2:\n",
    "    if element in union_q16:\n",
    "        continue\n",
    "    else:\n",
    "        union_q16.append(element)\n",
    "intersection_q16=[]\n",
    "for elementa in q16_list1:\n",
    "    if elementa in q16_list2:\n",
    "        intersection_q16.append(elementa)\n",
    "def symmetric_difference(a,b,c):\n",
    "    c=[]\n",
    "    for i in a:\n",
    "        if i not in b:\n",
    "            c.append(i)\n",
    "    return c\n",
    "symmetric_diff_q16=[]\n",
    "print(\"Union :\",union_q16)\n",
    "print(\"Intersection:\",intersection_q16)\n",
    "print(\"Symmetric Difference\",symmetric_difference(q16_list1,q16_list2,symmetric_diff_q16))"
   ]
  },
  {
   "cell_type": "code",
   "execution_count": 73,
   "id": "83322349-3c53-4176-afd8-07786ef4b4fe",
   "metadata": {},
   "outputs": [
    {
     "name": "stdout",
     "output_type": "stream",
     "text": [
      "0\n",
      "1\n",
      "2\n",
      "3\n",
      "4\n",
      "5\n",
      "6\n",
      "7\n",
      "8\n",
      "9\n",
      "10\n",
      "11\n",
      "12\n",
      "13\n",
      "14\n",
      "15\n",
      "16\n",
      "17\n",
      "18\n",
      "19\n",
      "\n"
     ]
    }
   ],
   "source": [
    "#Question Number 17\n",
    "file_q17=open('Hello.txt','w')\n",
    "for i in range(0,20):\n",
    "    file_q17.write(str(i)+'\\n')\n",
    "file_q17.close()\n",
    "file_q17=open('Hello.txt','r')\n",
    "print(file_q17.read())"
   ]
  },
  {
   "cell_type": "code",
   "execution_count": 95,
   "id": "d343e0a1-f146-4ca7-910b-71e34bd45201",
   "metadata": {},
   "outputs": [
    {
     "name": "stdout",
     "output_type": "stream",
     "text": [
      "No of Words in the File: 25\n",
      "Most Frequent Word: is\n"
     ]
    }
   ],
   "source": [
    "#Question Number 18\n",
    "file_q18=open('file_q18.txt','r')\n",
    "dict_q18={}\n",
    "maximu=None\n",
    "word_count_q18=0\n",
    "while True:\n",
    "    line=file_q18.readline()\n",
    "    if len(line)==0:\n",
    "        break\n",
    "    line=line.split()\n",
    "    for word_q18 in line:\n",
    "        word_count_q18+=1\n",
    "        dict_q18[word_q18]=dict_q18.get(word_q18,0)+1\n",
    "for i in dict_q18:\n",
    "    if maximu is None or dict_q18[i]>maximu:\n",
    "        maximu=dict_q18[i]\n",
    "        word_maximu=i\n",
    "print(\"No of Words in the File:\",word_count_q18)\n",
    "print(\"Most Frequent Word:\",word_maximu)\n",
    "file_q18.close()"
   ]
  },
  {
   "cell_type": "code",
   "execution_count": null,
   "id": "0b4545c6-0373-4337-b3a8-a49b2b96bb56",
   "metadata": {},
   "outputs": [],
   "source": [
    "#Question Number 19"
   ]
  },
  {
   "cell_type": "code",
   "execution_count": null,
   "id": "f135db51-581c-47e0-a550-d689a4ecc521",
   "metadata": {},
   "outputs": [],
   "source": [
    "#Question Number 20"
   ]
  },
  {
   "cell_type": "code",
   "execution_count": 1,
   "id": "d9c652d9-815c-42db-bccc-48abe4845fbb",
   "metadata": {},
   "outputs": [
    {
     "name": "stdin",
     "output_type": "stream",
     "text": [
      " [3,5,9,9,8,7,6,10,11,21]\n"
     ]
    },
    {
     "name": "stdout",
     "output_type": "stream",
     "text": [
      "Mean: 8.9\n",
      "Median: 8.5\n",
      "Mode: 9\n",
      "Standard Deviation: 4.635730794599704\n"
     ]
    }
   ],
   "source": [
    "#Question Number 21\n",
    "list_q21=list(eval(input()))\n",
    "list_q21.sort()\n",
    "dict_q21=dict()\n",
    "max_q21=()\n",
    "mode_q21=0\n",
    "sum_q21=0\n",
    "for i in list_q21:\n",
    "    sum_q21+=i\n",
    "    dict_q21[i]=dict_q21.get(i,0)+1\n",
    "    if max_q21==() or max_q21<dict_q21[i]:\n",
    "        max_q21=dict_q21[i]\n",
    "        mode_q21=i\n",
    "print('Mean:',sum_q21/len(list_q21))\n",
    "m_q21=len(list_q21)\n",
    "if len(list_q21)%2==0:\n",
    "    print(\"Median:\",(list_q21[(m_q21-2)//2]+list_q21[(m_q21-2)//2 +1])/2)\n",
    "else:\n",
    "    print(\"Median: \",(list_q21[(m_q21-1)//2]))\n",
    "print(\"Mode:\",mode_q21)\n",
    "sum_q21_standard_deviation=0\n",
    "mean_q21=sum_q21/len(list_q21)\n",
    "for i in list_q21:\n",
    "    sum_q21_standard_deviation+=(i-mean_q21)**2\n",
    "print(\"Standard Deviation:\",(sum_q21_standard_deviation/len(list_q21))**0.5)"
   ]
  },
  {
   "cell_type": "code",
   "execution_count": 3,
   "id": "84e6a6c4-ea54-4943-b4a5-1215b4742d4a",
   "metadata": {},
   "outputs": [
    {
     "name": "stdin",
     "output_type": "stream",
     "text": [
      " [5,8,9,10]\n"
     ]
    },
    {
     "name": "stdout",
     "output_type": "stream",
     "text": [
      "Normalized list: [0.3042903097250923, 0.48686449556014766, 0.5477225575051662, 0.6085806194501846]\n"
     ]
    }
   ],
   "source": [
    "#Question Number 22\n",
    "list_q22=list(eval(input()))\n",
    "normalized_list_q22=[]\n",
    "length_of_vector=0\n",
    "for i in list_q22:\n",
    "    length_of_vector+=i**2\n",
    "length_of_vector=length_of_vector**0.5\n",
    "for i in list_q22:\n",
    "    normalized_list_q22.append(i/length_of_vector)\n",
    "print(\"Normalized list:\",normalized_list_q22)"
   ]
  },
  {
   "cell_type": "code",
   "execution_count": 5,
   "id": "fe4dd24a-d72e-4f04-b894-382ebed2f28e",
   "metadata": {},
   "outputs": [
    {
     "name": "stdin",
     "output_type": "stream",
     "text": [
      " 234324143\n"
     ]
    },
    {
     "name": "stdout",
     "output_type": "stream",
     "text": [
      "Odd\n"
     ]
    }
   ],
   "source": [
    "#Question Number 23\n",
    "input_q23=int(input())\n",
    "if input_q23%2==0:\n",
    "    print('Even')\n",
    "else:\n",
    "    print('Odd')"
   ]
  },
  {
   "cell_type": "code",
   "execution_count": 7,
   "id": "bf1822ae-9dd0-4deb-a6e6-43ef875218f2",
   "metadata": {},
   "outputs": [
    {
     "name": "stdin",
     "output_type": "stream",
     "text": [
      " 85\n"
     ]
    },
    {
     "name": "stdout",
     "output_type": "stream",
     "text": [
      "B\n"
     ]
    }
   ],
   "source": [
    "#Question Number 24\n",
    "input_grade_q23=int(input())\n",
    "if 90<=input_grade_q23<=100:\n",
    "    print('A')\n",
    "elif 80<=input_grade_q23<90:\n",
    "    print('B')\n",
    "elif 70<=input_grade_q23<80:\n",
    "    print('C')\n",
    "elif 60<=input_grade_q23<70:\n",
    "    print('D')\n",
    "else:\n",
    "    print('F')"
   ]
  },
  {
   "cell_type": "code",
   "execution_count": 9,
   "id": "31086f7c-0df0-4583-b376-cec261122f6b",
   "metadata": {},
   "outputs": [
    {
     "name": "stdin",
     "output_type": "stream",
     "text": [
      " 2000\n"
     ]
    },
    {
     "name": "stdout",
     "output_type": "stream",
     "text": [
      "Leap Year\n"
     ]
    }
   ],
   "source": [
    "#Question Number 25\n",
    "input_q24=int(input())\n",
    "if input_q24%4==0:\n",
    "    if input_q24%100==0:\n",
    "        if input_q24%400==0:\n",
    "            print('Leap Year')\n",
    "        else:\n",
    "            print('Not a Leap Year')\n",
    "    else:\n",
    "        print('Leap Year')\n",
    "else:\n",
    "    print('Not a leap year')"
   ]
  },
  {
   "cell_type": "code",
   "execution_count": null,
   "id": "9e084dba-3197-420f-b203-00222aa2cc88",
   "metadata": {},
   "outputs": [],
   "source": []
  }
 ],
 "metadata": {
  "kernelspec": {
   "display_name": "Python [conda env:base] *",
   "language": "python",
   "name": "conda-base-py"
  },
  "language_info": {
   "codemirror_mode": {
    "name": "ipython",
    "version": 3
   },
   "file_extension": ".py",
   "mimetype": "text/x-python",
   "name": "python",
   "nbconvert_exporter": "python",
   "pygments_lexer": "ipython3",
   "version": "3.12.7"
  }
 },
 "nbformat": 4,
 "nbformat_minor": 5
}
